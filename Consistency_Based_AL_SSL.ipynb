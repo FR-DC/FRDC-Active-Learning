{
  "nbformat": 4,
  "nbformat_minor": 0,
  "metadata": {
    "colab": {
      "provenance": [],
      "gpuType": "T4"
    },
    "kernelspec": {
      "name": "python3",
      "display_name": "Python 3"
    },
    "language_info": {
      "name": "python"
    }
  },
  "cells": [
    {
      "cell_type": "markdown",
      "source": [
        "# Data splitting, preprocessing, augmentation in Vanilla Pytorch"
      ],
      "metadata": {
        "id": "n8I8lQVCVDmA"
      }
    },
    {
      "cell_type": "markdown",
      "source": [
        "Will likely try to use FastAI for this at some point, as they have a more efficient transforms/augmentations, although the API is a little bit more tricky to use"
      ],
      "metadata": {
        "id": "Z9Lm9hJVx6xJ"
      }
    },
    {
      "cell_type": "code",
      "source": [
        "import torch\n",
        "import torchvision\n",
        "import torchvision.transforms as transforms\n",
        "import numpy as np\n",
        "import torch.optim as optim\n",
        "import torch.nn.functional as F\n",
        "from abc import abstractmethod\n",
        "from typing import Any, Tuple, List, Dict, Union, Optional\n",
        "from torchvision.transforms import v2\n",
        "from torch.utils.data import Dataset\n",
        "from torch.utils.data import DataLoader as dl"
      ],
      "metadata": {
        "id": "yOF6W0PppsXP"
      },
      "execution_count": 1,
      "outputs": []
    },
    {
      "cell_type": "code",
      "execution_count": 2,
      "metadata": {
        "id": "lwJe5E47VADD",
        "colab": {
          "base_uri": "https://localhost:8080/"
        },
        "outputId": "b1763ea3-b4a8-40f2-ba73-928c2878b102"
      },
      "outputs": [
        {
          "output_type": "stream",
          "name": "stdout",
          "text": [
            "Downloading https://www.cs.toronto.edu/~kriz/cifar-10-python.tar.gz to ./data/cifar-10-python.tar.gz\n"
          ]
        },
        {
          "output_type": "stream",
          "name": "stderr",
          "text": [
            "100%|██████████| 170498071/170498071 [00:03<00:00, 43922822.71it/s]\n"
          ]
        },
        {
          "output_type": "stream",
          "name": "stdout",
          "text": [
            "Extracting ./data/cifar-10-python.tar.gz to ./data\n",
            "Files already downloaded and verified\n"
          ]
        }
      ],
      "source": [
        "unlabeled_transform = transforms.Compose([\n",
        "    transforms.ToTensor(),\n",
        "    transforms.RandomHorizontalFlip(p=0.5),\n",
        "    transforms.RandomResizedCrop(size=(32, 32), antialias=True),\n",
        "    transforms.Normalize((0.4914, 0.4822, 0.4465), (0.247, 0.243, 0.261))\n",
        "    ])\n",
        "\n",
        "labeled_transform = transforms.Compose([\n",
        "    transforms.ToTensor(),\n",
        "    transforms.Normalize(mean=(0.4914, 0.4822, 0.4465), std=(0.247, 0.243, 0.261))\n",
        "])\n",
        "\n",
        "trainset = torchvision.datasets.CIFAR10(root='./data', train=True,\n",
        "                                        download=True, transform=None)\n",
        "\n",
        "testset = torchvision.datasets.CIFAR10(root='./data', train=False,\n",
        "                                       download=True, transform=labeled_transform)\n",
        "\n",
        "classes = ('plane', 'car', 'bird', 'cat',\n",
        "           'deer', 'dog', 'frog', 'horse', 'ship', 'truck')"
      ]
    },
    {
      "cell_type": "code",
      "source": [
        "def get_indices(n_initial: int, X_size: int) -> np.ndarray:\n",
        "  \"\"\"\n",
        "  This function generates the indices for the starting pool\n",
        "  n_initial: size of the initial starting pool\n",
        "  X_size: size of the full dataset\n",
        "  \"\"\"\n",
        "  return np.random.choice(range(X_size), size=n_initial, replace=False)\n",
        "\n",
        "# this probably needs refactoring at some stage\n",
        "def get_pools(dataset: Any, labeled_idx: np.ndarray, unlabeled_idx: np.ndarray) -> Tuple[Any, Any]:\n",
        "  \"\"\"\n",
        "  This function returns a tuple containing the labeled and unlabled pools\n",
        "  dataset: raw dataset before splitting, should be an array-like data structure which support indexing\n",
        "  initial_idx: indices for the starting pool\n",
        "  \"\"\"\n",
        "  labeled_idxes = set(labeled_idx.flatten())\n",
        "  unlabeled_idxes = set(unlabeled_idx.flatten())\n",
        "  labeled_pool, unlabeled_pool = [], []\n",
        "  for idx, sample in enumerate(dataset):\n",
        "    if idx in labeled_idxes:\n",
        "      labeled_pool.append(sample)\n",
        "    elif idx in unlabeled_idxes:\n",
        "      unlabeled_pool.append(sample)\n",
        "  return labeled_pool, unlabeled_pool\n"
      ],
      "metadata": {
        "id": "HtEuKf6Lwrh6"
      },
      "execution_count": 3,
      "outputs": []
    },
    {
      "cell_type": "code",
      "source": [
        "# create labeled and unlabeled pools\n",
        "starting_indices = get_indices(n_initial=256, X_size=len(trainset))\n",
        "labeled_indices = starting_indices[:128]\n",
        "unlabeled_indices = starting_indices[128:]\n",
        "labeled_pool, unlabeled_pool = get_pools(dataset=trainset, labeled_idx=labeled_indices, unlabeled_idx=unlabeled_indices)"
      ],
      "metadata": {
        "id": "jrzRxI6m6If-"
      },
      "execution_count": 4,
      "outputs": []
    },
    {
      "cell_type": "code",
      "source": [
        "class CIFARALDataset(Dataset):\n",
        "  def __init__(self, labeled_dataset: Union[np.ndarray, List], unlabeled_dataset: Optional[Union[np.ndarray, List]]):\n",
        "    self.labeled_dataset = labeled_dataset\n",
        "    self.unlabeled_dataset = unlabeled_dataset\n",
        "\n",
        "  def __len__(self) -> int:\n",
        "    return len(self.labeled_dataset)\n",
        "\n",
        "  @abstractmethod\n",
        "  def __getitem__(self, idx: int) -> None:\n",
        "    raise NotImplementedError(\"This method needs to be implemented for a dataset to be created\")\n",
        "\n",
        "class SSLDataset(CIFARALDataset):\n",
        "\n",
        "  def __init__(self, labeled_dataset: Union[np.ndarray, List], unlabeled_dataset: Union[np.ndarray, List]):\n",
        "    super().__init__(labeled_dataset=labeled_dataset, unlabeled_dataset=unlabeled_dataset)\n",
        "\n",
        "  def __getitem__(self, idx: int) -> Tuple[torch.Tensor, int]:\n",
        "    ll_image, label = self.labeled_dataset[idx]\n",
        "    ul_image, _ = self.unlabeled_dataset[idx]\n",
        "    return torch.cat([labeled_transform(ll_image), labeled_transform(ul_image), unlabeled_transform(ul_image)], dim=0), label\n",
        "\n",
        "class TestDataset(Dataset):\n",
        "\n",
        "  def __init__(self, dataset):\n",
        "    self.dataset = dataset\n",
        "\n",
        "  def __len__(self):\n",
        "    return len(self.dataset)\n",
        "\n",
        "  def __getitem__(self, idx: int):\n",
        "    return self.dataset[idx]\n",
        "\n",
        "class SLDataset(CIFARALDataset):\n",
        "\n",
        "  def __init__(self, labeled_dataset: Union[np.ndarray, List]):\n",
        "    super().__init__(labeled_dataset=labeled_dataset, unlabeled_dataset=None)\n",
        "\n",
        "  def __getitem__(self, idx: int) -> Tuple[torch.Tensor, torch.Tensor]:\n",
        "      image, label = self.labeled_dataset[idx]\n",
        "      return labeled_transform(image), label"
      ],
      "metadata": {
        "id": "pkMzhWPXJnzW"
      },
      "execution_count": 5,
      "outputs": []
    },
    {
      "cell_type": "code",
      "source": [
        "train_bs, test_bs = 32, 64\n",
        "test_set = [testset[i] for i in range(8192)]\n",
        "\n",
        "ssl_dataloader = dl(dataset=SSLDataset(labeled_dataset=labeled_pool, unlabeled_dataset=unlabeled_pool),\n",
        "                                batch_size=train_bs,\n",
        "                                shuffle=True,\n",
        "                                num_workers=2)\n",
        "\n",
        "sl_dataloader = dl(dataset=SLDataset(labeled_dataset=labeled_pool),\n",
        "                                  batch_size=train_bs,\n",
        "                                  shuffle=True,\n",
        "                                  num_workers=2)\n",
        "\n",
        "test_dataloader = dl(dataset=TestDataset(dataset=test_set),\n",
        "                     batch_size=test_bs,\n",
        "                     shuffle=True,\n",
        "                     num_workers=2)"
      ],
      "metadata": {
        "id": "pol8-dCzLBGH"
      },
      "execution_count": 6,
      "outputs": []
    },
    {
      "cell_type": "markdown",
      "source": [
        "# Training in Vanilla Pytorch"
      ],
      "metadata": {
        "id": "38hD_xkoxc36"
      }
    },
    {
      "cell_type": "code",
      "source": [
        "# load wide resnet 50 model\n",
        "\n",
        "model = torch.hub.load('pytorch/vision:v0.10.0', 'wide_resnet50_2', pretrained=True)\n",
        "model.fc = torch.nn.Linear(in_features=2048, out_features=10, bias=True)"
      ],
      "metadata": {
        "id": "hzGyXCovxMLd"
      },
      "execution_count": null,
      "outputs": []
    },
    {
      "cell_type": "code",
      "source": [
        "# freeze model layers --> need to refactor this as well\n",
        "\n",
        "for i, child in enumerate(model.children()):\n",
        "  if i < 9:\n",
        "    for param in child.parameters():\n",
        "      param.requires_grad = False"
      ],
      "metadata": {
        "id": "OMiC-4CxicnK"
      },
      "execution_count": 8,
      "outputs": []
    },
    {
      "cell_type": "code",
      "source": [
        "num_epochs = 5\n",
        "optimizer = optim.Adam(model.parameters(), lr=0.003, weight_decay=0.0004)\n",
        "supervised_criterion = torch.nn.CrossEntropyLoss()\n",
        "unsupervised_criterion = torch.nn.KLDivLoss(reduction=\"batchmean\")\n",
        "device = torch.device(\"cuda\" if torch.cuda.is_available() else \"cpu\")\n",
        "model.to(device)\n",
        "\n",
        "for epoch in range(num_epochs):  # loop over the dataset multiple times\n",
        "    running_loss = 0.0\n",
        "    total_correct, total_samples = 0, 0\n",
        "    model.train()\n",
        "    for i, data in enumerate(ssl_dataloader):\n",
        "        # get the inputs; data is a list of [inputs, labels]\n",
        "        # labeled_img, labels = data\n",
        "        # unlabeled_img, unlabeled_aug_img = next(iter(unlabeled_dataloader))\n",
        "        x, labels = data\n",
        "        labeled_img, unlabeled_img, unlabeled_aug_img = x[:, :3, ...], x[:, 3:6, ...], x[:, 6:, ...]\n",
        "\n",
        "        labeled_img = labeled_img.to(device)\n",
        "        labels = labels.to(device)\n",
        "        unlabeled_img = unlabeled_img.to(device)\n",
        "        unlabeled_aug_img = unlabeled_aug_img.to(device)\n",
        "\n",
        "        # zero the parameter gradients\n",
        "        optimizer.zero_grad()\n",
        "\n",
        "        # forward + backward + optimize\n",
        "        predicted_logits = model(labeled_img)\n",
        "        unaug_logits = F.softmax(model(unlabeled_img), dim=1)\n",
        "        aug_logits = F.log_softmax(model(unlabeled_aug_img), dim=1)\n",
        "        loss_l = supervised_criterion(predicted_logits, labels)\n",
        "        loss_u = unsupervised_criterion(aug_logits, unaug_logits)\n",
        "        print(f\"Loss_l: {loss_l}, Loss_u: {loss_u}\")\n",
        "        loss = loss_l\n",
        "        loss.backward()\n",
        "        optimizer.step()\n",
        "\n",
        "        # print statistics\n",
        "        running_loss += loss.item()\n",
        "        print(f'[Epoch: {epoch + 1}, Batch: {i + 1:5d}] loss: {running_loss / 2000:.3f}')\n",
        "        running_loss = 0.0\n",
        "\n",
        "    model.eval()\n",
        "    with torch.no_grad():\n",
        "      for j, data in enumerate(test_dataloader):\n",
        "        labeled_img, labels = data\n",
        "        labeled_img = labeled_img.to(device)\n",
        "        labels = labels.to(device)\n",
        "        preds = model(labeled_img)\n",
        "        loss = supervised_criterion(preds, labels)\n",
        "        _, predicted = torch.max(preds, 1)\n",
        "        total_correct += (predicted == labels).sum().item()\n",
        "        total_samples += labels.size(0)\n",
        "      accuracy = 100 * total_correct / total_samples\n",
        "      print(f'Accuracy = {accuracy:.2f}%')"
      ],
      "metadata": {
        "id": "SKzbMTPj_AZF"
      },
      "execution_count": null,
      "outputs": []
    },
    {
      "cell_type": "markdown",
      "source": [
        "# Training in FastAI"
      ],
      "metadata": {
        "id": "8tA7_Fe-2BCl"
      }
    },
    {
      "cell_type": "markdown",
      "source": [
        "Decided to use this approach to try and figure out what the \"optimal\" learning rate was, as the previous loss was having issues converging."
      ],
      "metadata": {
        "id": "dVJpROUHyGP7"
      }
    },
    {
      "cell_type": "code",
      "source": [
        "from fastai.vision.all import *"
      ],
      "metadata": {
        "id": "ufiymFPi2KKm"
      },
      "execution_count": null,
      "outputs": []
    },
    {
      "cell_type": "code",
      "source": [
        "LayerFunc = Callable[[nn.Module],None]\n",
        "\n",
        "def _bn(ni, init_zero=False):\n",
        "    \"Batchnorm layer with 0 initialization\"\n",
        "    m = nn.BatchNorm2d(ni)\n",
        "    m.weight.data.fill_(0 if init_zero else 1)\n",
        "    m.bias.data.zero_()\n",
        "    return m\n",
        "\n",
        "def bn_relu_conv(ni, nf, ks, stride, init_zero=False):\n",
        "    bn_initzero = _bn(ni, init_zero=init_zero)\n",
        "    return nn.Sequential(bn_initzero, nn.ReLU(inplace=True), conv2d(ni, nf, ks, stride))\n",
        "\n",
        "def _make_group(N, ni, nf, block, stride, drop_p):\n",
        "    return [block(ni if i == 0 else nf, nf, stride if i == 0 else 1, drop_p) for i in range(N)]\n",
        "\n",
        "def conv2d(ni:int, nf:int, ks:int=3, stride:int=1, padding:int=None, bias=False, init:LayerFunc=nn.init.kaiming_normal_) -> nn.Conv2d:\n",
        "    \"Create and initialize `nn.Conv2d` layer. `padding` defaults to `ks//2`.\"\n",
        "    if padding is None: padding = ks//2\n",
        "    return init_default(nn.Conv2d(ni, nf, kernel_size=ks, stride=stride, padding=padding, bias=bias), init)\n",
        "\n",
        "class BasicBlock(Module):\n",
        "    \"Block to from a wide ResNet.\"\n",
        "    def __init__(self, ni, nf, stride, drop_p=0.0):\n",
        "        self.bn = nn.BatchNorm2d(ni)\n",
        "        self.conv1 = conv2d(ni, nf, 3, stride)\n",
        "        self.conv2 = bn_relu_conv(nf, nf, 3, 1)\n",
        "        self.drop = nn.Dropout(drop_p, inplace=True) if drop_p else None\n",
        "        self.shortcut = conv2d(ni, nf, 1, stride) if ni != nf else noop\n",
        "\n",
        "    def forward(self, x):\n",
        "        x2 = F.relu(self.bn(x), inplace=True)\n",
        "        r = self.shortcut(x2)\n",
        "        x = self.conv1(x2)\n",
        "        if self.drop: x = self.drop(x)\n",
        "        x = self.conv2(x) * 0.2\n",
        "        return x.add_(r)\n",
        "\n",
        "class WideResNet(Module):\n",
        "      \"Wide ResNet with `num_groups` and a width of `k`.\"\n",
        "      def __init__(self, num_groups:int, N:int, num_classes:int, k:int=1, drop_p:float=0.0, start_nf:int=16, n_in_channels:int=3):\n",
        "          n_channels = [start_nf]\n",
        "          for i in range(num_groups): n_channels.append(start_nf*(2**i)*k)\n",
        "\n",
        "          layers = [conv2d(n_in_channels, n_channels[0], 3, 1)]  # conv1\n",
        "          for i in range(num_groups):\n",
        "              layers += _make_group(N, n_channels[i], n_channels[i+1], BasicBlock, (1 if i==0 else 2), drop_p)\n",
        "\n",
        "          layers += [nn.BatchNorm2d(n_channels[num_groups]), nn.ReLU(inplace=True), nn.AdaptiveAvgPool2d(1),\n",
        "                    Flatten(), nn.Linear(n_channels[num_groups], num_classes)]\n",
        "          self.features = nn.Sequential(*layers)\n",
        "\n",
        "      def forward(self, x): return self.features(x)\n",
        "\n",
        "class Net(Module):\n",
        "\n",
        "  def __init__(self):\n",
        "    self.model = WideResNet(num_groups=3,N=4,num_classes=10,k=2,start_nf=32)\n",
        "\n",
        "  def forward(self, x):\n",
        "    if x.shape[1] == 9:\n",
        "      ll, ull, ull_aug = x[:, :3, ...], x[:, 3:6, ...], x[:, 6:, ...]\n",
        "      x = torch.cat([ll, ull, ull_aug], dim=0)\n",
        "    return self.model(x)"
      ],
      "metadata": {
        "id": "VZVShhrB6VDH"
      },
      "execution_count": null,
      "outputs": []
    },
    {
      "cell_type": "code",
      "source": [
        "unsupervised_criterion = torch.nn.KLDivLoss(reduction=\"batchmean\")\n",
        "# unsupervised_criterion = torch.nn.MSELoss(reduction=\"mean\")\n",
        "\n",
        "def sl_loss_func(out, targ):\n",
        "  return CrossEntropyLossFlat()(out, targ.long())\n",
        "\n",
        "def ssl_loss_func(out, targ):\n",
        "  if out.shape[0] != test_bs:\n",
        "    bs = out.shape[0] // 3\n",
        "    ll_tensor, ull_tensor, ull_aug_tensor = out[:bs, ...], out[bs:2*bs, ...], out[2*bs:3*bs, ...]\n",
        "    unaug_logits = F.softmax(ull_tensor, dim=1)\n",
        "    aug_logits = F.log_softmax(ull_aug_tensor, dim=1)\n",
        "    loss_u = unsupervised_criterion(aug_logits, unaug_logits)\n",
        "    loss_l = CrossEntropyLossFlat()(ll_tensor, targ.long())\n",
        "    return loss_u + loss_l\n",
        "  else:\n",
        "    return CrossEntropyLossFlat()(out, targ.long())\n",
        "\n",
        "@patch\n",
        "@delegates(subplots)\n",
        "def plot_metrics(self: Recorder, nrows=None, ncols=None, figsize=None, **kwargs):\n",
        "    metrics = np.stack(self.values)\n",
        "    names = self.metric_names[1:-1]\n",
        "    n = len(names) - 1\n",
        "    if nrows is None and ncols is None:\n",
        "        nrows = int(math.sqrt(n))\n",
        "        ncols = int(np.ceil(n / nrows))\n",
        "    elif nrows is None: nrows = int(np.ceil(n / ncols))\n",
        "    elif ncols is None: ncols = int(np.ceil(n / nrows))\n",
        "    figsize = figsize or (ncols * 6, nrows * 4)\n",
        "    fig, axs = subplots(nrows, ncols, figsize=figsize, **kwargs)\n",
        "    axs = [ax if i < n else ax.set_axis_off() for i, ax in enumerate(axs.flatten())][:n]\n",
        "    for i, (name, ax) in enumerate(zip(names, [axs[0]] + axs)):\n",
        "        ax.plot(metrics[:, i], color='#1f77b4' if i == 0 else '#ff7f0e', label='valid' if i > 0 else 'train')\n",
        "        ax.set_title(name if i > 1 else 'losses')\n",
        "        ax.legend(loc='best')\n",
        "    plt.show()"
      ],
      "metadata": {
        "id": "QU4lf6Rl5h8m"
      },
      "execution_count": null,
      "outputs": []
    },
    {
      "cell_type": "code",
      "source": [
        "data_semi_supervised = DataLoaders(ssl_dataloader, test_dataloader)\n",
        "learn_semi_supervised = Learner(data_semi_supervised,Net(),loss_func=ssl_loss_func,metrics=accuracy, cbs=[Recorder])"
      ],
      "metadata": {
        "id": "pQ71p7DULb_c"
      },
      "execution_count": null,
      "outputs": []
    },
    {
      "cell_type": "code",
      "source": [
        "learn_semi_supervised.lr_find()"
      ],
      "metadata": {
        "colab": {
          "base_uri": "https://localhost:8080/",
          "height": 471
        },
        "id": "6TG6t9ty9rLn",
        "outputId": "ff44b4e1-d8d7-4ff7-b13a-5250bacae9d2"
      },
      "execution_count": null,
      "outputs": [
        {
          "output_type": "display_data",
          "data": {
            "text/plain": [
              "<IPython.core.display.HTML object>"
            ],
            "text/html": [
              "\n",
              "<style>\n",
              "    /* Turns off some styling */\n",
              "    progress {\n",
              "        /* gets rid of default border in Firefox and Opera. */\n",
              "        border: none;\n",
              "        /* Needs to be in here for Safari polyfill so background images work as expected. */\n",
              "        background-size: auto;\n",
              "    }\n",
              "    progress:not([value]), progress:not([value])::-webkit-progress-bar {\n",
              "        background: repeating-linear-gradient(45deg, #7e7e7e, #7e7e7e 10px, #5c5c5c 10px, #5c5c5c 20px);\n",
              "    }\n",
              "    .progress-bar-interrupted, .progress-bar-interrupted::-webkit-progress-bar {\n",
              "        background: #F44336;\n",
              "    }\n",
              "</style>\n"
            ]
          },
          "metadata": {}
        },
        {
          "output_type": "display_data",
          "data": {
            "text/plain": [
              "<IPython.core.display.HTML object>"
            ],
            "text/html": []
          },
          "metadata": {}
        },
        {
          "output_type": "execute_result",
          "data": {
            "text/plain": [
              "SuggestedLRs(valley=0.0002290867705596611)"
            ]
          },
          "metadata": {},
          "execution_count": 17
        },
        {
          "output_type": "display_data",
          "data": {
            "text/plain": [
              "<Figure size 640x480 with 1 Axes>"
            ],
            "image/png": "[encoded data removed]"
          },
          "metadata": {}
        }
      ]
    },
    {
      "cell_type": "code",
      "source": [
        "learn_semi_supervised.fit_one_cycle(20, 3e-4)"
      ],
      "metadata": {
        "colab": {
          "base_uri": "https://localhost:8080/",
          "height": 1000
        },
        "id": "heAF_HrsKR55",
        "outputId": "89358501-0147-4296-c284-9be789bae67e"
      },
      "execution_count": null,
      "outputs": [
        {
          "output_type": "display_data",
          "data": {
            "text/plain": [
              "<IPython.core.display.HTML object>"
            ],
            "text/html": [
              "\n",
              "<style>\n",
              "    /* Turns off some styling */\n",
              "    progress {\n",
              "        /* gets rid of default border in Firefox and Opera. */\n",
              "        border: none;\n",
              "        /* Needs to be in here for Safari polyfill so background images work as expected. */\n",
              "        background-size: auto;\n",
              "    }\n",
              "    progress:not([value]), progress:not([value])::-webkit-progress-bar {\n",
              "        background: repeating-linear-gradient(45deg, #7e7e7e, #7e7e7e 10px, #5c5c5c 10px, #5c5c5c 20px);\n",
              "    }\n",
              "    .progress-bar-interrupted, .progress-bar-interrupted::-webkit-progress-bar {\n",
              "        background: #F44336;\n",
              "    }\n",
              "</style>\n"
            ]
          },
          "metadata": {}
        },
        {
          "output_type": "display_data",
          "data": {
            "text/plain": [
              "<IPython.core.display.HTML object>"
            ],
            "text/html": [
              "<table border=\"1\" class=\"dataframe\">\n",
              "  <thead>\n",
              "    <tr style=\"text-align: left;\">\n",
              "      <th>epoch</th>\n",
              "      <th>train_loss</th>\n",
              "      <th>valid_loss</th>\n",
              "      <th>accuracy</th>\n",
              "      <th>time</th>\n",
              "    </tr>\n",
              "  </thead>\n",
              "  <tbody>\n",
              "    <tr>\n",
              "      <td>0</td>\n",
              "      <td>2.364592</td>\n",
              "      <td>2.300520</td>\n",
              "      <td>0.092407</td>\n",
              "      <td>00:04</td>\n",
              "    </tr>\n",
              "    <tr>\n",
              "      <td>0</td>\n",
              "      <td>2.364592</td>\n",
              "      <td>2.300520</td>\n",
              "      <td>0.092407</td>\n",
              "      <td>00:04</td>\n",
              "    </tr>\n",
              "    <tr>\n",
              "      <td>1</td>\n",
              "      <td>2.347910</td>\n",
              "      <td>2.294795</td>\n",
              "      <td>0.122681</td>\n",
              "      <td>00:04</td>\n",
              "    </tr>\n",
              "    <tr>\n",
              "      <td>1</td>\n",
              "      <td>2.347910</td>\n",
              "      <td>2.294795</td>\n",
              "      <td>0.122681</td>\n",
              "      <td>00:04</td>\n",
              "    </tr>\n",
              "    <tr>\n",
              "      <td>2</td>\n",
              "      <td>2.312612</td>\n",
              "      <td>2.286709</td>\n",
              "      <td>0.124146</td>\n",
              "      <td>00:04</td>\n",
              "    </tr>\n",
              "    <tr>\n",
              "      <td>2</td>\n",
              "      <td>2.312612</td>\n",
              "      <td>2.286709</td>\n",
              "      <td>0.124146</td>\n",
              "      <td>00:04</td>\n",
              "    </tr>\n",
              "    <tr>\n",
              "      <td>3</td>\n",
              "      <td>2.264447</td>\n",
              "      <td>2.271705</td>\n",
              "      <td>0.134399</td>\n",
              "      <td>00:04</td>\n",
              "    </tr>\n",
              "    <tr>\n",
              "      <td>3</td>\n",
              "      <td>2.264447</td>\n",
              "      <td>2.271705</td>\n",
              "      <td>0.134399</td>\n",
              "      <td>00:04</td>\n",
              "    </tr>\n",
              "    <tr>\n",
              "      <td>4</td>\n",
              "      <td>2.207881</td>\n",
              "      <td>2.253399</td>\n",
              "      <td>0.174927</td>\n",
              "      <td>00:04</td>\n",
              "    </tr>\n",
              "    <tr>\n",
              "      <td>4</td>\n",
              "      <td>2.207881</td>\n",
              "      <td>2.253399</td>\n",
              "      <td>0.174927</td>\n",
              "      <td>00:04</td>\n",
              "    </tr>\n",
              "    <tr>\n",
              "      <td>5</td>\n",
              "      <td>2.149743</td>\n",
              "      <td>2.235590</td>\n",
              "      <td>0.199463</td>\n",
              "      <td>00:04</td>\n",
              "    </tr>\n",
              "    <tr>\n",
              "      <td>5</td>\n",
              "      <td>2.149743</td>\n",
              "      <td>2.235590</td>\n",
              "      <td>0.199463</td>\n",
              "      <td>00:04</td>\n",
              "    </tr>\n",
              "    <tr>\n",
              "      <td>6</td>\n",
              "      <td>2.085455</td>\n",
              "      <td>2.217581</td>\n",
              "      <td>0.214233</td>\n",
              "      <td>00:04</td>\n",
              "    </tr>\n",
              "    <tr>\n",
              "      <td>6</td>\n",
              "      <td>2.085455</td>\n",
              "      <td>2.217581</td>\n",
              "      <td>0.214233</td>\n",
              "      <td>00:04</td>\n",
              "    </tr>\n",
              "    <tr>\n",
              "      <td>7</td>\n",
              "      <td>2.019829</td>\n",
              "      <td>2.204835</td>\n",
              "      <td>0.214722</td>\n",
              "      <td>00:04</td>\n",
              "    </tr>\n",
              "    <tr>\n",
              "      <td>7</td>\n",
              "      <td>2.019829</td>\n",
              "      <td>2.204835</td>\n",
              "      <td>0.214722</td>\n",
              "      <td>00:04</td>\n",
              "    </tr>\n",
              "    <tr>\n",
              "      <td>8</td>\n",
              "      <td>1.952174</td>\n",
              "      <td>2.194780</td>\n",
              "      <td>0.216431</td>\n",
              "      <td>00:04</td>\n",
              "    </tr>\n",
              "    <tr>\n",
              "      <td>8</td>\n",
              "      <td>1.952174</td>\n",
              "      <td>2.194780</td>\n",
              "      <td>0.216431</td>\n",
              "      <td>00:04</td>\n",
              "    </tr>\n",
              "    <tr>\n",
              "      <td>9</td>\n",
              "      <td>1.882552</td>\n",
              "      <td>2.176757</td>\n",
              "      <td>0.230591</td>\n",
              "      <td>00:04</td>\n",
              "    </tr>\n",
              "    <tr>\n",
              "      <td>9</td>\n",
              "      <td>1.882552</td>\n",
              "      <td>2.176757</td>\n",
              "      <td>0.230591</td>\n",
              "      <td>00:04</td>\n",
              "    </tr>\n",
              "    <tr>\n",
              "      <td>10</td>\n",
              "      <td>1.816777</td>\n",
              "      <td>2.163671</td>\n",
              "      <td>0.251587</td>\n",
              "      <td>00:04</td>\n",
              "    </tr>\n",
              "    <tr>\n",
              "      <td>10</td>\n",
              "      <td>1.816777</td>\n",
              "      <td>2.163671</td>\n",
              "      <td>0.251587</td>\n",
              "      <td>00:04</td>\n",
              "    </tr>\n",
              "    <tr>\n",
              "      <td>11</td>\n",
              "      <td>1.753587</td>\n",
              "      <td>2.162580</td>\n",
              "      <td>0.254272</td>\n",
              "      <td>00:04</td>\n",
              "    </tr>\n",
              "    <tr>\n",
              "      <td>11</td>\n",
              "      <td>1.753587</td>\n",
              "      <td>2.162580</td>\n",
              "      <td>0.254272</td>\n",
              "      <td>00:04</td>\n",
              "    </tr>\n",
              "    <tr>\n",
              "      <td>12</td>\n",
              "      <td>1.687049</td>\n",
              "      <td>2.153219</td>\n",
              "      <td>0.252808</td>\n",
              "      <td>00:04</td>\n",
              "    </tr>\n",
              "    <tr>\n",
              "      <td>12</td>\n",
              "      <td>1.687049</td>\n",
              "      <td>2.153219</td>\n",
              "      <td>0.252808</td>\n",
              "      <td>00:04</td>\n",
              "    </tr>\n",
              "    <tr>\n",
              "      <td>13</td>\n",
              "      <td>1.623286</td>\n",
              "      <td>2.134773</td>\n",
              "      <td>0.252075</td>\n",
              "      <td>00:04</td>\n",
              "    </tr>\n",
              "    <tr>\n",
              "      <td>13</td>\n",
              "      <td>1.623286</td>\n",
              "      <td>2.134773</td>\n",
              "      <td>0.252075</td>\n",
              "      <td>00:04</td>\n",
              "    </tr>\n",
              "    <tr>\n",
              "      <td>14</td>\n",
              "      <td>1.563098</td>\n",
              "      <td>2.123681</td>\n",
              "      <td>0.254395</td>\n",
              "      <td>00:04</td>\n",
              "    </tr>\n",
              "    <tr>\n",
              "      <td>14</td>\n",
              "      <td>1.563098</td>\n",
              "      <td>2.123681</td>\n",
              "      <td>0.254395</td>\n",
              "      <td>00:04</td>\n",
              "    </tr>\n",
              "    <tr>\n",
              "      <td>15</td>\n",
              "      <td>1.506094</td>\n",
              "      <td>2.118196</td>\n",
              "      <td>0.259155</td>\n",
              "      <td>00:04</td>\n",
              "    </tr>\n",
              "    <tr>\n",
              "      <td>15</td>\n",
              "      <td>1.506094</td>\n",
              "      <td>2.118196</td>\n",
              "      <td>0.259155</td>\n",
              "      <td>00:04</td>\n",
              "    </tr>\n",
              "    <tr>\n",
              "      <td>16</td>\n",
              "      <td>1.453899</td>\n",
              "      <td>2.115526</td>\n",
              "      <td>0.262329</td>\n",
              "      <td>00:04</td>\n",
              "    </tr>\n",
              "    <tr>\n",
              "      <td>16</td>\n",
              "      <td>1.453899</td>\n",
              "      <td>2.115526</td>\n",
              "      <td>0.262329</td>\n",
              "      <td>00:04</td>\n",
              "    </tr>\n",
              "    <tr>\n",
              "      <td>17</td>\n",
              "      <td>1.405667</td>\n",
              "      <td>2.114963</td>\n",
              "      <td>0.263916</td>\n",
              "      <td>00:04</td>\n",
              "    </tr>\n",
              "    <tr>\n",
              "      <td>17</td>\n",
              "      <td>1.405667</td>\n",
              "      <td>2.114963</td>\n",
              "      <td>0.263916</td>\n",
              "      <td>00:04</td>\n",
              "    </tr>\n",
              "    <tr>\n",
              "      <td>18</td>\n",
              "      <td>1.362617</td>\n",
              "      <td>2.114335</td>\n",
              "      <td>0.263306</td>\n",
              "      <td>00:04</td>\n",
              "    </tr>\n",
              "    <tr>\n",
              "      <td>18</td>\n",
              "      <td>1.362617</td>\n",
              "      <td>2.114335</td>\n",
              "      <td>0.263306</td>\n",
              "      <td>00:04</td>\n",
              "    </tr>\n",
              "    <tr>\n",
              "      <td>19</td>\n",
              "      <td>1.326665</td>\n",
              "      <td>2.114459</td>\n",
              "      <td>0.264038</td>\n",
              "      <td>00:04</td>\n",
              "    </tr>\n",
              "    <tr>\n",
              "      <td>19</td>\n",
              "      <td>1.326665</td>\n",
              "      <td>2.114459</td>\n",
              "      <td>0.264038</td>\n",
              "      <td>00:04</td>\n",
              "    </tr>\n",
              "  </tbody>\n",
              "</table>"
            ]
          },
          "metadata": {}
        }
      ]
    },
    {
      "cell_type": "code",
      "source": [
        "learn_semi_supervised.recorder.plot_metrics()"
      ],
      "metadata": {
        "colab": {
          "base_uri": "https://localhost:8080/",
          "height": 344
        },
        "id": "HxYAUieQRVF7",
        "outputId": "23897532-0706-408d-c390-3cb123b8f9a4"
      },
      "execution_count": null,
      "outputs": [
        {
          "output_type": "display_data",
          "data": {
            "text/plain": [
              "<Figure size 1200x400 with 2 Axes>"
            ],
            "image/png": "[encoded data removed]"
          },
          "metadata": {}
        }
      ]
    },
    {
      "cell_type": "code",
      "source": [
        "data_supervised = DataLoaders(sl_dataloader, test_dataloader)\n",
        "learn_supervised = Learner(data_supervised,Net(),loss_func=sl_loss_func,metrics=accuracy, cbs=[Recorder])"
      ],
      "metadata": {
        "id": "BVD2wqPZ7kCZ"
      },
      "execution_count": null,
      "outputs": []
    },
    {
      "cell_type": "code",
      "source": [
        "learn_supervised.lr_find()"
      ],
      "metadata": {
        "colab": {
          "base_uri": "https://localhost:8080/",
          "height": 471
        },
        "id": "7g6PAjBOCac7",
        "outputId": "b5a36784-850c-43ec-9e0c-b9022bc60b0d"
      },
      "execution_count": null,
      "outputs": [
        {
          "output_type": "display_data",
          "data": {
            "text/plain": [
              "<IPython.core.display.HTML object>"
            ],
            "text/html": [
              "\n",
              "<style>\n",
              "    /* Turns off some styling */\n",
              "    progress {\n",
              "        /* gets rid of default border in Firefox and Opera. */\n",
              "        border: none;\n",
              "        /* Needs to be in here for Safari polyfill so background images work as expected. */\n",
              "        background-size: auto;\n",
              "    }\n",
              "    progress:not([value]), progress:not([value])::-webkit-progress-bar {\n",
              "        background: repeating-linear-gradient(45deg, #7e7e7e, #7e7e7e 10px, #5c5c5c 10px, #5c5c5c 20px);\n",
              "    }\n",
              "    .progress-bar-interrupted, .progress-bar-interrupted::-webkit-progress-bar {\n",
              "        background: #F44336;\n",
              "    }\n",
              "</style>\n"
            ]
          },
          "metadata": {}
        },
        {
          "output_type": "display_data",
          "data": {
            "text/plain": [
              "<IPython.core.display.HTML object>"
            ],
            "text/html": []
          },
          "metadata": {}
        },
        {
          "output_type": "execute_result",
          "data": {
            "text/plain": [
              "SuggestedLRs(valley=0.0004786300996784121)"
            ]
          },
          "metadata": {},
          "execution_count": 47
        },
        {
          "output_type": "display_data",
          "data": {
            "text/plain": [
              "<Figure size 640x480 with 1 Axes>"
            ],
            "image/png": "[encoded data removed]"
          },
          "metadata": {}
        }
      ]
    },
    {
      "cell_type": "code",
      "source": [
        "learn_supervised.fine_tune(20, 5e-4)"
      ],
      "metadata": {
        "colab": {
          "base_uri": "https://localhost:8080/",
          "height": 1000
        },
        "id": "hCfCS2ODLaRz",
        "outputId": "ce318708-c1bc-42e5-bb48-a286ecdc726c"
      },
      "execution_count": null,
      "outputs": [
        {
          "output_type": "display_data",
          "data": {
            "text/plain": [
              "<IPython.core.display.HTML object>"
            ],
            "text/html": [
              "\n",
              "<style>\n",
              "    /* Turns off some styling */\n",
              "    progress {\n",
              "        /* gets rid of default border in Firefox and Opera. */\n",
              "        border: none;\n",
              "        /* Needs to be in here for Safari polyfill so background images work as expected. */\n",
              "        background-size: auto;\n",
              "    }\n",
              "    progress:not([value]), progress:not([value])::-webkit-progress-bar {\n",
              "        background: repeating-linear-gradient(45deg, #7e7e7e, #7e7e7e 10px, #5c5c5c 10px, #5c5c5c 20px);\n",
              "    }\n",
              "    .progress-bar-interrupted, .progress-bar-interrupted::-webkit-progress-bar {\n",
              "        background: #F44336;\n",
              "    }\n",
              "</style>\n"
            ]
          },
          "metadata": {}
        },
        {
          "output_type": "display_data",
          "data": {
            "text/plain": [
              "<IPython.core.display.HTML object>"
            ],
            "text/html": [
              "<table border=\"1\" class=\"dataframe\">\n",
              "  <thead>\n",
              "    <tr style=\"text-align: left;\">\n",
              "      <th>epoch</th>\n",
              "      <th>train_loss</th>\n",
              "      <th>valid_loss</th>\n",
              "      <th>accuracy</th>\n",
              "      <th>time</th>\n",
              "    </tr>\n",
              "  </thead>\n",
              "  <tbody>\n",
              "    <tr>\n",
              "      <td>0</td>\n",
              "      <td>2.290252</td>\n",
              "      <td>2.301128</td>\n",
              "      <td>0.114136</td>\n",
              "      <td>00:04</td>\n",
              "    </tr>\n",
              "    <tr>\n",
              "      <td>0</td>\n",
              "      <td>2.290252</td>\n",
              "      <td>2.301128</td>\n",
              "      <td>0.114136</td>\n",
              "      <td>00:04</td>\n",
              "    </tr>\n",
              "  </tbody>\n",
              "</table>"
            ]
          },
          "metadata": {}
        },
        {
          "output_type": "display_data",
          "data": {
            "text/plain": [
              "<IPython.core.display.HTML object>"
            ],
            "text/html": [
              "\n",
              "<style>\n",
              "    /* Turns off some styling */\n",
              "    progress {\n",
              "        /* gets rid of default border in Firefox and Opera. */\n",
              "        border: none;\n",
              "        /* Needs to be in here for Safari polyfill so background images work as expected. */\n",
              "        background-size: auto;\n",
              "    }\n",
              "    progress:not([value]), progress:not([value])::-webkit-progress-bar {\n",
              "        background: repeating-linear-gradient(45deg, #7e7e7e, #7e7e7e 10px, #5c5c5c 10px, #5c5c5c 20px);\n",
              "    }\n",
              "    .progress-bar-interrupted, .progress-bar-interrupted::-webkit-progress-bar {\n",
              "        background: #F44336;\n",
              "    }\n",
              "</style>\n"
            ]
          },
          "metadata": {}
        },
        {
          "output_type": "display_data",
          "data": {
            "text/plain": [
              "<IPython.core.display.HTML object>"
            ],
            "text/html": [
              "<table border=\"1\" class=\"dataframe\">\n",
              "  <thead>\n",
              "    <tr style=\"text-align: left;\">\n",
              "      <th>epoch</th>\n",
              "      <th>train_loss</th>\n",
              "      <th>valid_loss</th>\n",
              "      <th>accuracy</th>\n",
              "      <th>time</th>\n",
              "    </tr>\n",
              "  </thead>\n",
              "  <tbody>\n",
              "    <tr>\n",
              "      <td>0</td>\n",
              "      <td>2.122851</td>\n",
              "      <td>2.300768</td>\n",
              "      <td>0.149170</td>\n",
              "      <td>00:04</td>\n",
              "    </tr>\n",
              "    <tr>\n",
              "      <td>0</td>\n",
              "      <td>2.122851</td>\n",
              "      <td>2.300768</td>\n",
              "      <td>0.149170</td>\n",
              "      <td>00:04</td>\n",
              "    </tr>\n",
              "    <tr>\n",
              "      <td>1</td>\n",
              "      <td>2.085531</td>\n",
              "      <td>2.330901</td>\n",
              "      <td>0.151123</td>\n",
              "      <td>00:04</td>\n",
              "    </tr>\n",
              "    <tr>\n",
              "      <td>1</td>\n",
              "      <td>2.085531</td>\n",
              "      <td>2.330901</td>\n",
              "      <td>0.151123</td>\n",
              "      <td>00:04</td>\n",
              "    </tr>\n",
              "    <tr>\n",
              "      <td>2</td>\n",
              "      <td>2.051888</td>\n",
              "      <td>2.445000</td>\n",
              "      <td>0.158813</td>\n",
              "      <td>00:04</td>\n",
              "    </tr>\n",
              "    <tr>\n",
              "      <td>2</td>\n",
              "      <td>2.051888</td>\n",
              "      <td>2.445000</td>\n",
              "      <td>0.158813</td>\n",
              "      <td>00:04</td>\n",
              "    </tr>\n",
              "    <tr>\n",
              "      <td>3</td>\n",
              "      <td>2.029721</td>\n",
              "      <td>2.504644</td>\n",
              "      <td>0.176880</td>\n",
              "      <td>00:04</td>\n",
              "    </tr>\n",
              "    <tr>\n",
              "      <td>3</td>\n",
              "      <td>2.029721</td>\n",
              "      <td>2.504644</td>\n",
              "      <td>0.176880</td>\n",
              "      <td>00:04</td>\n",
              "    </tr>\n",
              "    <tr>\n",
              "      <td>4</td>\n",
              "      <td>1.982460</td>\n",
              "      <td>2.295699</td>\n",
              "      <td>0.205688</td>\n",
              "      <td>00:04</td>\n",
              "    </tr>\n",
              "    <tr>\n",
              "      <td>4</td>\n",
              "      <td>1.982460</td>\n",
              "      <td>2.295699</td>\n",
              "      <td>0.205688</td>\n",
              "      <td>00:04</td>\n",
              "    </tr>\n",
              "    <tr>\n",
              "      <td>5</td>\n",
              "      <td>1.908394</td>\n",
              "      <td>2.468515</td>\n",
              "      <td>0.215942</td>\n",
              "      <td>00:04</td>\n",
              "    </tr>\n",
              "    <tr>\n",
              "      <td>5</td>\n",
              "      <td>1.908394</td>\n",
              "      <td>2.468515</td>\n",
              "      <td>0.215942</td>\n",
              "      <td>00:04</td>\n",
              "    </tr>\n",
              "    <tr>\n",
              "      <td>6</td>\n",
              "      <td>1.844993</td>\n",
              "      <td>2.300460</td>\n",
              "      <td>0.233765</td>\n",
              "      <td>00:04</td>\n",
              "    </tr>\n",
              "    <tr>\n",
              "      <td>6</td>\n",
              "      <td>1.844993</td>\n",
              "      <td>2.300460</td>\n",
              "      <td>0.233765</td>\n",
              "      <td>00:04</td>\n",
              "    </tr>\n",
              "    <tr>\n",
              "      <td>7</td>\n",
              "      <td>1.744938</td>\n",
              "      <td>2.317734</td>\n",
              "      <td>0.234619</td>\n",
              "      <td>00:04</td>\n",
              "    </tr>\n",
              "    <tr>\n",
              "      <td>7</td>\n",
              "      <td>1.744938</td>\n",
              "      <td>2.317734</td>\n",
              "      <td>0.234619</td>\n",
              "      <td>00:04</td>\n",
              "    </tr>\n",
              "    <tr>\n",
              "      <td>8</td>\n",
              "      <td>1.633025</td>\n",
              "      <td>2.573106</td>\n",
              "      <td>0.180908</td>\n",
              "      <td>00:04</td>\n",
              "    </tr>\n",
              "    <tr>\n",
              "      <td>8</td>\n",
              "      <td>1.633025</td>\n",
              "      <td>2.573106</td>\n",
              "      <td>0.180908</td>\n",
              "      <td>00:04</td>\n",
              "    </tr>\n",
              "    <tr>\n",
              "      <td>9</td>\n",
              "      <td>1.492404</td>\n",
              "      <td>2.522595</td>\n",
              "      <td>0.257446</td>\n",
              "      <td>00:04</td>\n",
              "    </tr>\n",
              "    <tr>\n",
              "      <td>9</td>\n",
              "      <td>1.492404</td>\n",
              "      <td>2.522595</td>\n",
              "      <td>0.257446</td>\n",
              "      <td>00:04</td>\n",
              "    </tr>\n",
              "    <tr>\n",
              "      <td>10</td>\n",
              "      <td>1.368050</td>\n",
              "      <td>2.163139</td>\n",
              "      <td>0.239746</td>\n",
              "      <td>00:04</td>\n",
              "    </tr>\n",
              "    <tr>\n",
              "      <td>10</td>\n",
              "      <td>1.368050</td>\n",
              "      <td>2.163139</td>\n",
              "      <td>0.239746</td>\n",
              "      <td>00:04</td>\n",
              "    </tr>\n",
              "    <tr>\n",
              "      <td>11</td>\n",
              "      <td>1.209319</td>\n",
              "      <td>2.128469</td>\n",
              "      <td>0.271484</td>\n",
              "      <td>00:04</td>\n",
              "    </tr>\n",
              "    <tr>\n",
              "      <td>11</td>\n",
              "      <td>1.209319</td>\n",
              "      <td>2.128469</td>\n",
              "      <td>0.271484</td>\n",
              "      <td>00:04</td>\n",
              "    </tr>\n",
              "    <tr>\n",
              "      <td>12</td>\n",
              "      <td>1.070780</td>\n",
              "      <td>2.173739</td>\n",
              "      <td>0.272583</td>\n",
              "      <td>00:04</td>\n",
              "    </tr>\n",
              "    <tr>\n",
              "      <td>12</td>\n",
              "      <td>1.070780</td>\n",
              "      <td>2.173739</td>\n",
              "      <td>0.272583</td>\n",
              "      <td>00:04</td>\n",
              "    </tr>\n",
              "    <tr>\n",
              "      <td>13</td>\n",
              "      <td>0.939995</td>\n",
              "      <td>2.090526</td>\n",
              "      <td>0.281128</td>\n",
              "      <td>00:04</td>\n",
              "    </tr>\n",
              "    <tr>\n",
              "      <td>13</td>\n",
              "      <td>0.939995</td>\n",
              "      <td>2.090526</td>\n",
              "      <td>0.281128</td>\n",
              "      <td>00:04</td>\n",
              "    </tr>\n",
              "    <tr>\n",
              "      <td>14</td>\n",
              "      <td>0.828996</td>\n",
              "      <td>2.102180</td>\n",
              "      <td>0.279541</td>\n",
              "      <td>00:04</td>\n",
              "    </tr>\n",
              "    <tr>\n",
              "      <td>14</td>\n",
              "      <td>0.828996</td>\n",
              "      <td>2.102180</td>\n",
              "      <td>0.279541</td>\n",
              "      <td>00:04</td>\n",
              "    </tr>\n",
              "    <tr>\n",
              "      <td>15</td>\n",
              "      <td>0.751868</td>\n",
              "      <td>2.110351</td>\n",
              "      <td>0.284180</td>\n",
              "      <td>00:04</td>\n",
              "    </tr>\n",
              "    <tr>\n",
              "      <td>15</td>\n",
              "      <td>0.751868</td>\n",
              "      <td>2.110351</td>\n",
              "      <td>0.284180</td>\n",
              "      <td>00:04</td>\n",
              "    </tr>\n",
              "    <tr>\n",
              "      <td>16</td>\n",
              "      <td>0.687524</td>\n",
              "      <td>2.094280</td>\n",
              "      <td>0.290283</td>\n",
              "      <td>00:04</td>\n",
              "    </tr>\n",
              "    <tr>\n",
              "      <td>16</td>\n",
              "      <td>0.687524</td>\n",
              "      <td>2.094280</td>\n",
              "      <td>0.290283</td>\n",
              "      <td>00:04</td>\n",
              "    </tr>\n",
              "    <tr>\n",
              "      <td>17</td>\n",
              "      <td>0.658041</td>\n",
              "      <td>2.111561</td>\n",
              "      <td>0.292969</td>\n",
              "      <td>00:04</td>\n",
              "    </tr>\n",
              "    <tr>\n",
              "      <td>17</td>\n",
              "      <td>0.658041</td>\n",
              "      <td>2.111561</td>\n",
              "      <td>0.292969</td>\n",
              "      <td>00:04</td>\n",
              "    </tr>\n",
              "    <tr>\n",
              "      <td>18</td>\n",
              "      <td>0.621695</td>\n",
              "      <td>2.079788</td>\n",
              "      <td>0.289795</td>\n",
              "      <td>00:04</td>\n",
              "    </tr>\n",
              "    <tr>\n",
              "      <td>18</td>\n",
              "      <td>0.621695</td>\n",
              "      <td>2.079788</td>\n",
              "      <td>0.289795</td>\n",
              "      <td>00:04</td>\n",
              "    </tr>\n",
              "    <tr>\n",
              "      <td>19</td>\n",
              "      <td>0.581657</td>\n",
              "      <td>2.066352</td>\n",
              "      <td>0.294556</td>\n",
              "      <td>00:04</td>\n",
              "    </tr>\n",
              "    <tr>\n",
              "      <td>19</td>\n",
              "      <td>0.581657</td>\n",
              "      <td>2.066352</td>\n",
              "      <td>0.294556</td>\n",
              "      <td>00:04</td>\n",
              "    </tr>\n",
              "  </tbody>\n",
              "</table>"
            ]
          },
          "metadata": {}
        }
      ]
    },
    {
      "cell_type": "code",
      "source": [
        "learn_supervised.recorder.plot_metrics()"
      ],
      "metadata": {
        "colab": {
          "base_uri": "https://localhost:8080/",
          "height": 391
        },
        "id": "hAOL-BX0C9lF",
        "outputId": "2cd254d6-546b-4744-d3a3-b8f8ed989d48"
      },
      "execution_count": null,
      "outputs": [
        {
          "output_type": "display_data",
          "data": {
            "text/plain": [
              "<Figure size 1200x400 with 2 Axes>"
            ],
            "image/png": "[encoded data removed]"
          },
          "metadata": {}
        }
      ]
    },
    {
      "cell_type": "markdown",
      "source": [
        "# Part 2: Creating experimental AL pipeline with modAL"
      ],
      "metadata": {
        "id": "9-2KhUYjVJvL"
      }
    },
    {
      "cell_type": "code",
      "source": [],
      "metadata": {
        "id": "eV9E-XezVSWL"
      },
      "execution_count": null,
      "outputs": []
    }
  ]
}